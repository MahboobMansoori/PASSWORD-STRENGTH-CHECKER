{
 "cells": [
  {
   "cell_type": "code",
   "execution_count": 1,
   "id": "f54059f9",
   "metadata": {},
   "outputs": [
    {
     "name": "stdout",
     "output_type": "stream",
     "text": [
      "Enter your password: Mahboob@2101011\n",
      "Strong Password\n"
     ]
    }
   ],
   "source": [
    "import re\n",
    "\n",
    "# Password strength checker function\n",
    "def check_password_strength(password):\n",
    "    length_criteria = len(password) >= 12\n",
    "    upper_criteria = any(char.isupper() for char in password)\n",
    "    lower_criteria = any(char.islower() for char in password)\n",
    "    digit_criteria = any(char.isdigit() for char in password)\n",
    "    special_char_criteria = any(char in \"!@#$%^&*()-+\" for char in password)\n",
    "\n",
    "    if all([length_criteria, upper_criteria, lower_criteria, digit_criteria, special_char_criteria]):\n",
    "        return \"Strong Password\"\n",
    "    elif length_criteria and (upper_criteria or lower_criteria) and digit_criteria:\n",
    "        return \"Moderate Password\"\n",
    "    else:\n",
    "        return \"Weak Password\"\n",
    "\n",
    "# Test the checker\n",
    "if __name__ == \"__main__\":\n",
    "    test_password = input(\"Enter your password: \")\n",
    "    print(check_password_strength(test_password))\n"
   ]
  }
 ],
 "metadata": {
  "kernelspec": {
   "display_name": "Python 3 (ipykernel)",
   "language": "python",
   "name": "python3"
  },
  "language_info": {
   "codemirror_mode": {
    "name": "ipython",
    "version": 3
   },
   "file_extension": ".py",
   "mimetype": "text/x-python",
   "name": "python",
   "nbconvert_exporter": "python",
   "pygments_lexer": "ipython3",
   "version": "3.9.12"
  }
 },
 "nbformat": 4,
 "nbformat_minor": 5
}
